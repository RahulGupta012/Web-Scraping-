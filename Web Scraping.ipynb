{
 "cells": [
  {
   "cell_type": "markdown",
   "id": "2406f55b-e25a-4218-b594-270eb2549010",
   "metadata": {},
   "source": [
    "                                            ASSIGNMENT: WEB SCRAPING (PROJECT)"
   ]
  },
  {
   "cell_type": "markdown",
   "id": "172b1c38-3ea6-487b-b568-979019141aae",
   "metadata": {},
   "source": [
    "Q1. What is Web Scraping? Why is it Used? Give three areas where Web Scraping is used to get data.\n",
    " \n",
    "Web Scraping is basically used for taking the data from a certain website to our coding lab, so that we can do the further operations to it.\n",
    "Web Scraping is commonly used in the field of data science and data analytics.As firstly a data analyst scraping the data from a html and css language writing application or website...ie....We can make a database of the comments of the YouTube websites at a different place, where it is easy and convenient for understanding."
   ]
  },
  {
   "cell_type": "markdown",
   "id": "b7f59481-0f83-4722-8b63-82234e3b3185",
   "metadata": {},
   "source": [
    "Q2. What are the different methods used for Web Scraping?\n",
    "\n",
    "There are various methods for web scraping one of API, which is re-usable and able to Scraping the data again and again. Various companies like Twitter has their own API for Scraping the all type of data. \n",
    "An another mathod is software web scarping which is installed in the browser and given the output of the scraping of data.\n",
    "Cloud web scarping is also a method for Scraping the data.but it required more cpu and ram."
   ]
  },
  {
   "cell_type": "markdown",
   "id": "f758e21c-43f3-409c-bf4f-98bc4ee611ea",
   "metadata": {},
   "source": [
    "Q3. What is Beautiful Soup? Why is it used?\n",
    "\n",
    "Beautiful Soup is a package form python, which simplify the data and try to make it human readable, however it didn't do it so but it can make some simplification in the data.\n",
    "For using it, firstly we have to install it by giving a command \"install beautiful Soup\".\n",
    "EX: there is a variable named 'Data' in which all data is available in html form. Then the syntax of Beautiful Soup\n",
    "BeautifulSoup('data', {html.parser})\n",
    "\n"
   ]
  },
  {
   "cell_type": "markdown",
   "id": "edee38e2-f7e0-4e0d-a3e3-d47e8ccb7404",
   "metadata": {},
   "source": [
    "Q4. Why is flask used in this Web Scraping project?\n",
    "\n",
    "Flask is used for creating the Web scarper Api by which we can scrap the data from any website. By using Flask we are improving the re-usablity of the scraping."
   ]
  },
  {
   "cell_type": "markdown",
   "id": "22d55579-f651-4d61-adaa-fb99afb3e853",
   "metadata": {},
   "source": [
    "Q5. Write the names of AWS services used in this project. Also, explain the use of each service.\n",
    "\n",
    "In this project we are going to use two services for devployment on the web portal on AWS cloud, these are;\n",
    "1. Code Pipeline\n",
    "2. Bean Stack\n",
    "\n",
    "Code pipeline is basically a path for data to reaching at the Bean stack, where bean stack is a server which recieve the data. "
   ]
  },
  {
   "cell_type": "code",
   "execution_count": null,
   "id": "18659dce-5f66-47a2-819b-4d80933b8077",
   "metadata": {},
   "outputs": [],
   "source": []
  }
 ],
 "metadata": {
  "kernelspec": {
   "display_name": "Python 3 (ipykernel)",
   "language": "python",
   "name": "python3"
  },
  "language_info": {
   "codemirror_mode": {
    "name": "ipython",
    "version": 3
   },
   "file_extension": ".py",
   "mimetype": "text/x-python",
   "name": "python",
   "nbconvert_exporter": "python",
   "pygments_lexer": "ipython3",
   "version": "3.10.8"
  }
 },
 "nbformat": 4,
 "nbformat_minor": 5
}
